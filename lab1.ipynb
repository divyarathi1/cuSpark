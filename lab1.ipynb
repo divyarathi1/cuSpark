{
 "cells": [
  {
   "cell_type": "code",
   "execution_count": 1,
   "metadata": {
    "collapsed": false
   },
   "outputs": [
    {
     "name": "stdout",
     "output_type": "stream",
     "text": [
      "150\n"
     ]
    }
   ],
   "source": [
    "import sys\n",
    "import os\n",
    "\n",
    "fileName = 'logfile'\n",
    "\n",
    "\"\"\" Read and parse log file \"\"\"\n",
    "parsedLogs = (sc\n",
    "         .textFile(fileName)\n",
    "         .filter(lambda line: 'GET' in line))\n",
    "         \n",
    "print parsedLogs.count()\n",
    "                   \n"
   ]
  },
  {
   "cell_type": "code",
   "execution_count": 12,
   "metadata": {
    "collapsed": false
   },
   "outputs": [
    {
     "name": "stdout",
     "output_type": "stream",
     "text": [
      "[u'in24.inetnebr.com', u'-']\n",
      "1500\n"
     ]
    }
   ],
   "source": [
    "flatMapLines = parsedLogs.flatMap(lambda line: line.split(\" \"))\n",
    "print flatMapLines.take(2)\n",
    "print flatMapLines.count()"
   ]
  },
  {
   "cell_type": "code",
   "execution_count": 11,
   "metadata": {
    "collapsed": false
   },
   "outputs": [
    {
     "name": "stdout",
     "output_type": "stream",
     "text": [
      "[[u'in24.inetnebr.com', u'-', u'-', u'01/Aug/1995:00:00:01', u'-0400', u'\"GET', u'/shuttle/missions/sts-68/news/sts-68-mcc-05.txt', u'HTTP/1.0\"', u'200', u'1839'], [u'uplherc.upl.com', u'-', u'-', u'01/Aug/1995:00:00:07', u'-0400', u'\"GET', u'/', u'HTTP/1.0\"', u'304', u'0']]\n",
      "150\n"
     ]
    }
   ],
   "source": [
    "\n",
    "mapLines = parsedLogs.map(lambda line: line.split(\" \"))\n",
    "print mapLines.take(2)\n",
    "print mapLines.count()"
   ]
  },
  {
   "cell_type": "code",
   "execution_count": 19,
   "metadata": {
    "collapsed": false
   },
   "outputs": [
    {
     "name": "stdout",
     "output_type": "stream",
     "text": [
      "0\n"
     ]
    }
   ],
   "source": [
    "linesWithGet = parsedLogs.filter(lambda line: not 'GET' in line)\n",
    "         \n",
    "         \n",
    "print linesWithGet.count()"
   ]
  },
  {
   "cell_type": "code",
   "execution_count": 31,
   "metadata": {
    "collapsed": false
   },
   "outputs": [
    {
     "name": "stdout",
     "output_type": "stream",
     "text": [
      "[(u'in24.inetnebr.com', u'-', u'-', u'01/Aug/1995:00:00:01', u'-0400', u'\"GET', u'/shuttle/missions/sts-68/news/sts-68-mcc-05.txt', u'HTTP/1.0\"', u'200', u'1839')]\n"
     ]
    }
   ],
   "source": [
    "returnCodes = parsed_lines.map(lambda line: (line[0], line[1], line[2], line[3], line[4], line[5], line[6], line[7],line[8],line[9]))\n",
    "print returnCodes.take(1)\n"
   ]
  },
  {
   "cell_type": "code",
   "execution_count": 51,
   "metadata": {
    "collapsed": false
   },
   "outputs": [],
   "source": [
    "from pyspark.sql import Row\n",
    "                           \n",
    "\n",
    "def parseApacheLogLine(logline):\n",
    "    \"\"\" Parse a line in the Apache Common Log format\n",
    "    Args:\n",
    "        logline (str): a line of text in the Apache Common Log format\n",
    "    Returns:\n",
    "        row:  A dictionary containing the parts of the Apache Access Log \n",
    "    \"\"\"\n",
    "\n",
    "    return Row(\n",
    "        host          = logline[0],\n",
    "        client_identd = logline[1],\n",
    "        user_id       = logline[2],\n",
    "        date_time     = logline[3],\n",
    "        status_co     = int(logline[4]),\n",
    "        method        = logline[5],\n",
    "        endpoint      = logline[6],\n",
    "        protocol      = logline[7],\n",
    "        response_code = int(logline[8]),\n",
    "        content_size  = int(logline[9]))\n",
    "\n",
    " "
   ]
  },
  {
   "cell_type": "code",
   "execution_count": 52,
   "metadata": {
    "collapsed": false
   },
   "outputs": [
    {
     "name": "stdout",
     "output_type": "stream",
     "text": [
      "[[u'in24.inetnebr.com', u'-', u'-', u'01/Aug/1995:00:00:01', u'-0400', u'\"GET', u'/shuttle/missions/sts-68/news/sts-68-mcc-05.txt', u'HTTP/1.0\"', u'200', u'1839']]\n",
      "[Row(client_identd=u'-', content_size=1839, date_time=u'01/Aug/1995:00:00:01', endpoint=u'/shuttle/missions/sts-68/news/sts-68-mcc-05.txt', host=u'in24.inetnebr.com', method=u'\"GET', protocol=u'HTTP/1.0\"', response_code=200, status_co=-400, user_id=u'-')]\n",
      "150\n"
     ]
    }
   ],
   "source": [
    "sqlRows =  parsed_lines.map(lambda line: parseApacheLogLine(line))\n",
    "print parsed_lines.take(1)\n",
    "print sqlRows.take(1)\n",
    "print sqlRows.count()\n"
   ]
  },
  {
   "cell_type": "code",
   "execution_count": 54,
   "metadata": {
    "collapsed": false
   },
   "outputs": [
    {
     "name": "stdout",
     "output_type": "stream",
     "text": [
      "33\n"
     ]
    }
   ],
   "source": [
    "not200 = sqlRows.filter(lambda log: log.response_code != 200)\n",
    "print not200.count()"
   ]
  },
  {
   "cell_type": "code",
   "execution_count": null,
   "metadata": {
    "collapsed": false
   },
   "outputs": [],
   "source": [
    "# TODO: Replace <FILL IN> with appropriate code\n",
    "\n",
    "badRecords = sqlRows.<FILL IN>\n",
    "              \n",
    "print 'Found %d 404 URLs' % badRecords.count()"
   ]
  },
  {
   "cell_type": "code",
   "execution_count": null,
   "metadata": {
    "collapsed": false
   },
   "outputs": [],
   "source": [
    "# TEST Counting 404 (4a)\n",
    "Test.assertEquals(badRecords.count(), 6185, 'incorrect badRecords.count()')\n",
    "Test.assertTrue(badRecords.is_cached, 'incorrect badRecords.is_cached')"
   ]
  }
 ],
 "metadata": {
  "kernelspec": {
   "display_name": "Python 2",
   "language": "python",
   "name": "python2"
  },
  "language_info": {
   "codemirror_mode": {
    "name": "ipython",
    "version": 2
   },
   "file_extension": ".py",
   "mimetype": "text/x-python",
   "name": "python",
   "nbconvert_exporter": "python",
   "pygments_lexer": "ipython2",
   "version": "2.7.6"
  }
 },
 "nbformat": 4,
 "nbformat_minor": 0
}
