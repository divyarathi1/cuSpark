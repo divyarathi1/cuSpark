{
 "cells": [
  {
   "cell_type": "markdown",
   "metadata": {},
   "source": [
    "\n",
    "# **Spark's Hello World - WordCount **\n",
    "#### This lab will demonstrate how to count the number of words is a document using Spark's transformations and actions.\n",
    "\n",
    "#### *Part 1:*  Creating an RDD from a Python List\n",
    "####                 Use the map transformation to find the length of each word\n",
    "#### *Part 2:*  Create a pair RDD for each element of the list ( ie [ (\"dog\",1) , (\"cat\", 1)  ....    (\"elepant\",1)].  Each element is of the form \n",
    "             (key,value)\n",
    "#### *Part 3:*  Aggregate by key using GroupByKey - (\"dog\", [1,1])  (\"elephant\", [1,1]  ...  then count using reduce ...\n",
    "#### *Part 4:*  ReduceByKey - Aggregate and count at the same time\n",
    "#### *Part 5:* Apply word count to a file\n"
   ]
  },
  {
   "cell_type": "markdown",
   "metadata": {},
   "source": [
    "# ** Part 1: Creating an RDD from a Python List **"
   ]
  },
  {
   "cell_type": "code",
   "execution_count": 2,
   "metadata": {
    "collapsed": false
   },
   "outputs": [
    {
     "name": "stdout",
     "output_type": "stream",
     "text": [
      "<type 'list'>\n"
     ]
    }
   ],
   "source": [
    "#create a Python List and print the type\n",
    "wordsList = ['cat', 'elephant', 'dog', 'dog', 'cat', 'bird', 'elephant']\n",
    "print type(wordsList)\n"
   ]
  },
  {
   "cell_type": "markdown",
   "metadata": {},
   "source": [
    "###sc.parallelize creates an RDD spreading the data in wordsList across 4 executors\n"
   ]
  },
  {
   "cell_type": "code",
   "execution_count": 3,
   "metadata": {
    "collapsed": false
   },
   "outputs": [
    {
     "name": "stdout",
     "output_type": "stream",
     "text": [
      "<class 'pyspark.rdd.RDD'>\n"
     ]
    }
   ],
   "source": [
    "#Create an RDD on 4 executors\n",
    "wordsRDD = sc.parallelize(wordsList, 4)\n",
    "# Print out the type of wordsRDD\n",
    "print type(wordsRDD)"
   ]
  },
  {
   "cell_type": "markdown",
   "metadata": {},
   "source": [
    "###Collect and Print are actions - data is sent back to the driver!!!\n"
   ]
  },
  {
   "cell_type": "code",
   "execution_count": 4,
   "metadata": {
    "collapsed": false
   },
   "outputs": [
    {
     "name": "stdout",
     "output_type": "stream",
     "text": [
      "['cat', 'elephant', 'dog', 'dog', 'cat', 'bird', 'elephant']\n",
      "7\n"
     ]
    }
   ],
   "source": [
    "# Collect is an action that returns the elements of the RDDs to the driver.  Count is also an action\n",
    "wordList = wordsRDD.collect()\n",
    "print wordList\n",
    "\n",
    "wordCount = wordsRDD.count()\n",
    "print wordCount"
   ]
  },
  {
   "cell_type": "code",
   "execution_count": 5,
   "metadata": {
    "collapsed": false,
    "scrolled": true
   },
   "outputs": [
    {
     "name": "stdout",
     "output_type": "stream",
     "text": [
      "1 test passed.\n",
      "1 test passed.\n"
     ]
    }
   ],
   "source": [
    "# TEST your code\n",
    "from test_helper import Test\n",
    "Test.assertEquals(wordsRDD.collect(), ['cat', 'elephant', 'dog', 'dog', 'cat', 'bird', 'elephant'],\n",
    "                  'incorrect values for wordsRDD')\n",
    "Test.assertEquals(wordsRDD.count(), 7)"
   ]
  },
  {
   "cell_type": "markdown",
   "metadata": {},
   "source": [
    "#  **Map is a transformation - executed on the 4 individual executors**\n",
    "\n"
   ]
  },
  {
   "cell_type": "markdown",
   "metadata": {},
   "source": [
    "#  **Part 2  :  Create a pair RDD for each element of the list **\n",
    "#      **     [ (\"dog\",1) , #(\"cat\", 1)  ....    (\"elepant\",1) **\n",
    "#   **Each element is of the form   `<key,value>**\n",
    "\n",
    "             \n",
    "             \n",
    "##  **  Here we use the `map` transformation to map each word to a Python tuple **             \n"
   ]
  },
  {
   "cell_type": "code",
   "execution_count": 6,
   "metadata": {
    "collapsed": false
   },
   "outputs": [
    {
     "name": "stdout",
     "output_type": "stream",
     "text": [
      "[('cat', 1), ('elephant', 1), ('dog', 1), ('dog', 1), ('cat', 1), ('bird', 1), ('elephant', 1)]\n"
     ]
    }
   ],
   "source": [
    "wordPairs = wordsRDD.map(lambda word: (word, 1)) \n",
    "\n",
    "print wordPairs.collect()"
   ]
  },
  {
   "cell_type": "code",
   "execution_count": 7,
   "metadata": {
    "collapsed": false
   },
   "outputs": [
    {
     "name": "stdout",
     "output_type": "stream",
     "text": [
      "1 test passed.\n"
     ]
    }
   ],
   "source": [
    "# TEST Pair RDDs (1f)\n",
    "Test.assertEquals(wordPairs.collect(),\n",
    "                  [('cat', 1), ('elephant', 1), ('dog', 1), ('dog', 1), ('cat', 1), ('bird', 1), ('elephant', 1)],\n",
    "                  'incorrect value for wordPairs')"
   ]
  },
  {
   "cell_type": "markdown",
   "metadata": {},
   "source": [
    "# ** Counting with pair RDDs **"
   ]
  },
  {
   "cell_type": "markdown",
   "metadata": {},
   "source": [
    "#  **Part 3:  Aggregate by key using GroupByKey - (\"dog\", [1,1])  (\"elephant\", [1,1])          ie `('word', iterator)` ** \n",
    "## **                                   ...  then sum the values of the list using mapValues(list)  **\n",
    "####                                      note that `list` is a Python function that creates a list of the values \n",
    "\n",
    "### `groupByKey()`  is a transformation that shuffles data across the executorsto generate a pair RDD of type `('word', iterator)`."
   ]
  },
  {
   "cell_type": "code",
   "execution_count": 8,
   "metadata": {
    "collapsed": false
   },
   "outputs": [
    {
     "name": "stdout",
     "output_type": "stream",
     "text": [
      "[('dog', [1, 1]), ('bird', [1]), ('elephant', [1, 1]), ('cat', [1, 1])]\n",
      "dog: [1, 1]\n",
      "bird: [1]\n",
      "elephant: [1, 1]\n",
      "cat: [1, 1]\n"
     ]
    }
   ],
   "source": [
    "# TODO: Replace <FILL IN> with appropriate code\n",
    "# Note that groupByKey requires no parameters\n",
    "wordsGrouped = wordPairs.groupByKey().mapValues(list)\n",
    "print wordsGrouped.collect()\n",
    "\n",
    "# OR\n",
    "\n",
    "\n",
    "for key, value in wordsGrouped.collect():\n",
    "    print '{0}: {1}'.format(key, list(value))"
   ]
  },
  {
   "cell_type": "code",
   "execution_count": 9,
   "metadata": {
    "collapsed": false
   },
   "outputs": [
    {
     "name": "stdout",
     "output_type": "stream",
     "text": [
      "1 test passed.\n"
     ]
    }
   ],
   "source": [
    "# TEST groupByKey() approach (2a)\n",
    "Test.assertEquals(wordsGrouped.collect(),\n",
    "                  [('dog', [1, 1]), ('bird', [1]), ('elephant', [1, 1]), ('cat', [1, 1])],\n",
    "                  'incorrect value for wordsGrouped')"
   ]
  },
  {
   "cell_type": "code",
   "execution_count": 10,
   "metadata": {
    "collapsed": false
   },
   "outputs": [
    {
     "name": "stdout",
     "output_type": "stream",
     "text": [
      "[('dog', 2), ('bird', 1), ('elephant', 2), ('cat', 2)]\n"
     ]
    }
   ],
   "source": [
    "# TODO: Replace <FILL IN> with appropriate code\n",
    "wordCountsGrouped = wordsGrouped.map(lambda (k, v): (k, sum(v)))\n",
    "print wordCountsGrouped.collect()\n",
    "\n"
   ]
  },
  {
   "cell_type": "code",
   "execution_count": 11,
   "metadata": {
    "collapsed": false
   },
   "outputs": [
    {
     "name": "stdout",
     "output_type": "stream",
     "text": [
      "1 test passed.\n"
     ]
    }
   ],
   "source": [
    "# TEST Use groupByKey() to obtain the counts (2b)\n",
    "Test.assertEquals(wordCountsGrouped.collect(),\n",
    "                  [('dog', 2), ('bird', 1), ('elephant', 2), ('cat', 2)],\n",
    "                  'incorrect value for wordCountsGrouped')"
   ]
  },
  {
   "cell_type": "markdown",
   "metadata": {},
   "source": [
    "# **Part 4:  ReduceByKey - Aggregate and count at the same time**\n",
    "#### This transformation aggregates and counts first on the individual executors, then shuffles the results.  It scales much better than\n",
    "#### groupByKey() for large data sets"
   ]
  },
  {
   "cell_type": "code",
   "execution_count": 12,
   "metadata": {
    "collapsed": false
   },
   "outputs": [
    {
     "name": "stdout",
     "output_type": "stream",
     "text": [
      "[('dog', 2), ('bird', 1), ('elephant', 2), ('cat', 2)]\n"
     ]
    }
   ],
   "source": [
    "# Note that reduceByKey takes in a function that accepts two values and returns a single value\n",
    "wordCounts = wordPairs.reduceByKey(lambda a, b: a + b)\n",
    "print wordCounts.collect()"
   ]
  },
  {
   "cell_type": "code",
   "execution_count": 13,
   "metadata": {
    "collapsed": false
   },
   "outputs": [
    {
     "name": "stdout",
     "output_type": "stream",
     "text": [
      "1 test passed.\n"
     ]
    }
   ],
   "source": [
    "# TEST Counting using reduceByKey (2c)\n",
    "Test.assertEquals(wordCounts.collect(), [('dog', 2), ('bird', 1), ('elephant', 2), ('cat', 2)],\n",
    "                  'incorrect value for wordCounts')"
   ]
  },
  {
   "cell_type": "markdown",
   "metadata": {},
   "source": [
    "## **  All together **\n"
   ]
  },
  {
   "cell_type": "code",
   "execution_count": 17,
   "metadata": {
    "collapsed": false
   },
   "outputs": [
    {
     "name": "stdout",
     "output_type": "stream",
     "text": [
      "[('dog', 2), ('bird', 1), ('elephant', 2), ('cat', 2)]\n"
     ]
    }
   ],
   "source": [
    "\n",
    "wordCountsCollected = (wordsRDD\n",
    "                       .map(lambda word: (word, 1)) \n",
    "                       .reduceByKey(lambda a, b: a + b)\n",
    "                       .collect())\n",
    "print wordCountsCollected"
   ]
  },
  {
   "cell_type": "code",
   "execution_count": 18,
   "metadata": {
    "collapsed": false
   },
   "outputs": [
    {
     "name": "stdout",
     "output_type": "stream",
     "text": [
      "1 test passed.\n"
     ]
    }
   ],
   "source": [
    "# TEST All together (2d)\n",
    "Test.assertEquals(wordCountsCollected, [('dog', 2), ('bird', 1), ('elephant', 2), ('cat', 2)],\n",
    "                  'incorrect value for wordCountsCollected')"
   ]
  },
  {
   "cell_type": "markdown",
   "metadata": {},
   "source": [
    "### ** Part 5: Apply word count to a file **"
   ]
  },
  {
   "cell_type": "markdown",
   "metadata": {},
   "source": [
    "# **Part 5:  Apply WordCount to a file **\n",
    "#### The Shakespeare file has all punctuation removed and all empty lines removed"
   ]
  },
  {
   "cell_type": "markdown",
   "metadata": {},
   "source": [
    "#### ** Load a text file **\n",
    "#### This file has been loaded from [Complete Works of William Shakespeare](http://www.gutenberg.org/ebooks/100) from [Project Gutenberg](http://www.gutenberg.org/wiki/Main_Page). \n"
   ]
  },
  {
   "cell_type": "code",
   "execution_count": 19,
   "metadata": {
    "collapsed": false
   },
   "outputs": [
    {
     "name": "stdout",
     "output_type": "stream",
     "text": [
      "0: 1609\n",
      "1: the sonnets\n",
      "2: by william shakespeare\n",
      "3: 1\n",
      "4: from fairest creatures we desire increase\n",
      "5: that thereby beautys rose might never die\n",
      "6: but as the riper should by time decease\n",
      "7: his tender heir might bear his memory\n",
      "8: but thou contracted to thine own bright eyes\n",
      "9: feedst thy lights flame with selfsubstantial fuel\n",
      "10: making a famine where abundance lies\n",
      "11: thy self thy foe to thy sweet self too cruel\n",
      "12: thou that art now the worlds fresh ornament\n",
      "13: and only herald to the gaudy spring\n",
      "14: within thine own bud buriest thy content\n"
     ]
    }
   ],
   "source": [
    "# Just run this code\n",
    "import os.path\n",
    "baseDir = os.path.join('data')\n",
    "fileName = os.path.join(baseDir, 'cleanShakespeare.txt')\n",
    "\n",
    "shakespeareRDD = (sc\n",
    "                  .textFile(fileName, 8))\n",
    "                  \n",
    "\n",
    "#append line numbers for easy viewing\n",
    "\n",
    "print '\\n'.join(shakespeareRDD\n",
    "                .zipWithIndex()  # to (line, lineNum)\n",
    "                .map(lambda (l, num): '{0}: {1}'.format(num, l))  # to 'lineNum: line'\n",
    "                .take(15))\n"
   ]
  },
  {
   "cell_type": "markdown",
   "metadata": {},
   "source": [
    "#### **  Words from lines **\n",
    "#### First split the words off each line - split(\" \")\n",
    "\n"
   ]
  },
  {
   "cell_type": "code",
   "execution_count": 20,
   "metadata": {
    "collapsed": false
   },
   "outputs": [
    {
     "name": "stdout",
     "output_type": "stream",
     "text": [
      "[u'zwaggerd', u'zounds', u'zounds', u'zounds', u'zounds']\n",
      "918138\n"
     ]
    }
   ],
   "source": [
    "# TODO: Replace <FILL IN> with appropriate code\n",
    "\n",
    "shakespeareWordsRDD = shakespeareRDD.flatMap(lambda line: line.split(\" \"))\n",
    "\n",
    "#  Count the number of words\n",
    "shakespeareWordCount = shakespeareWordsRDD.count()\n",
    "print shakespeareWordsRDD.top(5)\n",
    "print shakespeareWordCount"
   ]
  },
  {
   "cell_type": "code",
   "execution_count": null,
   "metadata": {
    "collapsed": false
   },
   "outputs": [],
   "source": [
    "# TEST Words from lines (4d)\n",
    "Test.assertEquals(shakespeareWordCount, 918138 , 'incorrect value for shakespeareWordCount')\n",
    "Test.assertEquals(shakespeareWordsRDD.top(5),\n",
    "                  [u'zwaggerd', u'zounds', u'zounds', u'zounds', u'zounds'],\n",
    "                  'incorrect value for shakespeareWordsRDD')"
   ]
  },
  {
   "cell_type": "markdown",
   "metadata": {},
   "source": [
    "#### **  Remove empty elements **\n",
    "#### The next step is to filter out the empty elements.  Remove all entries where the word is `''`."
   ]
  },
  {
   "cell_type": "code",
   "execution_count": 21,
   "metadata": {
    "collapsed": false
   },
   "outputs": [
    {
     "name": "stdout",
     "output_type": "stream",
     "text": [
      "882996\n"
     ]
    }
   ],
   "source": [
    "# TODO: Replace <FILL IN> with appropriate code\n",
    "shakeWordsRDD = shakespeareWordsRDD.filter(lambda x: x != \"\")\n",
    "shakeWordCount = shakeWordsRDD.count()\n",
    "\n",
    "\n",
    "print shakeWordCount"
   ]
  },
  {
   "cell_type": "code",
   "execution_count": 22,
   "metadata": {
    "collapsed": false
   },
   "outputs": [
    {
     "name": "stdout",
     "output_type": "stream",
     "text": [
      "1 test passed.\n"
     ]
    }
   ],
   "source": [
    "# TEST Remove empty elements (4e)\n",
    "Test.assertEquals(shakeWordCount, 882996, 'incorrect value for shakeWordCount')"
   ]
  },
  {
   "cell_type": "markdown",
   "metadata": {},
   "source": [
    "#### ** Count the words **\n",
    "####Use `takeOrdered()` to obtain the 200 most common words and their counts."
   ]
  },
  {
   "cell_type": "code",
   "execution_count": 44,
   "metadata": {
    "collapsed": false
   },
   "outputs": [
    {
     "name": "stdout",
     "output_type": "stream",
     "text": [
      "[(u'the', 27361), (u'and', 26028), (u'i', 20681), (u'to', 19150), (u'of', 17463), (u'a', 14593), (u'you', 13615), (u'my', 12481), (u'in', 10956), (u'that', 10890), (u'is', 9134), (u'not', 8497), (u'with', 7771), (u'me', 7769), (u'it', 7678), (u'for', 7558), (u'be', 6857), (u'his', 6857), (u'your', 6655), (u'this', 6602), (u'but', 6265), (u'he', 6251), (u'have', 5880), (u'as', 5733), (u'thou', 5485), (u'him', 5192), (u'so', 5044), (u'will', 4974), (u'what', 4464), (u'thy', 4032), (u'all', 3883), (u'her', 3843), (u'no', 3790), (u'do', 3748), (u'by', 3729), (u'shall', 3591), (u'if', 3493), (u'are', 3403), (u'we', 3296), (u'thee', 3178), (u'our', 3061), (u'lord', 3059), (u'on', 3046), (u'king', 2861), (u'good', 2812), (u'now', 2778), (u'sir', 2754), (u'from', 2639), (u'o', 2607), (u'come', 2507), (u'at', 2501), (u'they', 2471), (u'well', 2462), (u'or', 2425), (u'which', 2315), (u'would', 2293), (u'more', 2288), (u'was', 2229), (u'then', 2221), (u'she', 2208), (u'am', 2168), (u'how', 2159), (u'here', 2114), (u'let', 2099), (u'enter', 2098), (u'their', 2075), (u'love', 2053), (u'when', 2049), (u'them', 1978), (u'ill', 1972), (u'hath', 1941), (u'than', 1879), (u'man', 1835), (u'an', 1832), (u'there', 1808), (u'one', 1779), (u'go', 1733), (u'upon', 1731), (u'like', 1701), (u'say', 1680), (u'know', 1647), (u'may', 1633), (u'make', 1629), (u'did', 1626), (u'us', 1621), (u'were', 1577), (u'should', 1572), (u'yet', 1569), (u'must', 1491), (u'why', 1465), (u'see', 1438), (u'had', 1427), (u'tis', 1405), (u'such', 1390), (u'out', 1376), (u'some', 1337), (u'give', 1327), (u'these', 1322), (u'where', 1232), (u'too', 1232)]\n"
     ]
    }
   ],
   "source": [
    "# TODO: Replace <FILL IN> with appropriate code\n",
    "\n",
    "MostUsedWords = (shakeWordsRDD.map(lambda word: (word, 1)) \n",
    "             .reduceByKey(lambda a, b: a + b)\n",
    "             .takeOrdered(100, lambda s: -s[1]))\n",
    "\n",
    "print MostUsedWords\n",
    "#top15WordsAndCounts = shakeWordsRDD.wordCount(shakeWordsRDD).takeOrdered(15, lambda s: -s[1])\n",
    "\n",
    "\n",
    "#print '\\n'.join(map(lambda (w, c): '{0}: {1}'.format(w, c), top15WordsAndCounts)).takeOrdered(15, lambda s: -s[1])"
   ]
  },
  {
   "cell_type": "markdown",
   "metadata": {},
   "source": [
    "#### ** Count the words **\n",
    "####Use `takeOrdered()` to obtain the 100 least used words and their counts."
   ]
  },
  {
   "cell_type": "code",
   "execution_count": 45,
   "metadata": {
    "collapsed": false
   },
   "outputs": [
    {
     "name": "stdout",
     "output_type": "stream",
     "text": [
      "[(u'soforth', 1), (u'shardborne', 1), (u'joshua', 1), (u'unhousled', 1), (u'bere', 1), (u'consumptions', 1), (u'friendsa', 1), (u'gelidus', 1), (u'buttonhole', 1), (u'somever', 1), (u'deluded', 1), (u'tinctures', 1), (u'foreward', 1), (u'unloving', 1), (u'pacify', 1), (u'breakpromise', 1), (u'omitst', 1), (u'ladders', 1), (u'latchd', 1), (u'wilfull', 1), (u'abatements', 1), (u'esill', 1), (u'wanderers', 1), (u'oertrip', 1), (u'honorificabilitudinitatibus', 1), (u'flybitten', 1), (u'billets', 1), (u'impugns', 1), (u'sevnight', 1), (u'prisond', 1), (u'symbols', 1), (u'overripend', 1), (u'stinks', 1), (u'fatter', 1), (u'unattempted', 1), (u'truththe', 1), (u'whippingcheer', 1), (u'unhelpful', 1), (u'cockpit', 1), (u'thricedouble', 1), (u'cardnal', 1), (u'hewd', 1), (u'hollanders', 1), (u'arion', 1), (u'diverts', 1), (u'womand', 1), (u'paysans', 1), (u'languishd', 1), (u'suffocating', 1), (u'overworn', 1), (u'browse', 1), (u'sample', 1), (u'peize', 1), (u'discontenting', 1), (u'99', 1), (u'pregnantly', 1), (u'sennight', 1), (u'rains', 1), (u'breese', 1), (u'larder', 1), (u'secondarily', 1), (u'gallow', 1), (u'jure', 1), (u'stillstand', 1), (u'attemptable', 1), (u'infecting', 1), (u'drawnthere', 1), (u'disputing', 1), (u'hailstone', 1), (u'iiii', 1), (u'playdst', 1), (u'bastes', 1), (u'vulgarly', 1), (u'itshall', 1), (u'rejoicingly', 1), (u'puzzles', 1), (u'ordred', 1), (u'keept', 1), (u'philippan', 1), (u'throwest', 1), (u'barrenspirited', 1), (u'quam', 1), (u'bossd', 1), (u'disparkd', 1), (u'frenchcrowncolour', 1), (u'responsive', 1), (u'woebegone', 1), (u'doublefatal', 1), (u'repairing', 1), (u'dearbelovd', 1), (u'denoted', 1), (u'regress', 1), (u'vernons', 1), (u'expostulation', 1), (u'jointress', 1), (u'peaches', 1), (u'loftyplumed', 1), (u'tambourines', 1), (u'disseat', 1), (u'underbearing', 1)]\n"
     ]
    }
   ],
   "source": [
    "\n",
    "LeastUsedWords = (shakeWordsRDD.map(lambda word: (word, 1)) \n",
    "             .reduceByKey(lambda a, b: a + b)\n",
    "             .takeOrdered(100, lambda s: s[1]))\n",
    "\n",
    "print LeastUsedWords\n"
   ]
  },
  {
   "cell_type": "markdown",
   "metadata": {},
   "source": [
    "#### ** Count the words **\n",
    "####Use `takeOrdered()` to obtain the twenty least used words and their counts."
   ]
  },
  {
   "cell_type": "code",
   "execution_count": null,
   "metadata": {
    "collapsed": true
   },
   "outputs": [],
   "source": [
    "#### ** Count the words **\n",
    "####Use `takeOrdered()` to print the words in alphabetical order\n",
    "####  Notice numbers appear in lexigraphical order"
   ]
  },
  {
   "cell_type": "code",
   "execution_count": 50,
   "metadata": {
    "collapsed": false
   },
   "outputs": [
    {
     "name": "stdout",
     "output_type": "stream",
     "text": [
      "[(u'1', 85), (u'10', 3), (u'100', 1), (u'101', 1), (u'102', 1), (u'103', 1), (u'104', 1), (u'105', 1), (u'106', 1), (u'107', 1), (u'108', 1), (u'109', 1), (u'11', 1), (u'110', 1), (u'111', 1), (u'112', 1), (u'113', 1), (u'114', 1), (u'115', 1), (u'116', 1), (u'117', 1), (u'118', 1), (u'119', 1), (u'12', 1), (u'120', 1), (u'121', 1), (u'122', 1), (u'123', 1), (u'124', 1), (u'125', 1), (u'126', 1), (u'127', 1), (u'128', 1), (u'129', 1), (u'13', 1), (u'130', 1), (u'131', 1), (u'132', 1), (u'133', 1), (u'134', 1), (u'135', 1), (u'136', 1), (u'137', 1), (u'138', 1), (u'139', 1), (u'14', 1), (u'140', 1), (u'141', 1), (u'142', 1), (u'143', 1), (u'144', 1), (u'145', 1), (u'146', 1), (u'147', 1), (u'148', 1), (u'149', 1), (u'15', 1), (u'150', 1), (u'151', 1), (u'152', 1), (u'153', 1), (u'154', 1), (u'1591', 2), (u'1592', 1), (u'1593', 2), (u'1594', 2), (u'1595', 3), (u'1596', 2), (u'1597', 2), (u'1598', 2), (u'1599', 3), (u'16', 1), (u'1601', 2), (u'1602', 2), (u'1603', 1), (u'1604', 1), (u'1605', 2), (u'1606', 2), (u'1607', 1), (u'1608', 2), (u'1609', 3), (u'1611', 2), (u'1612', 1), (u'17', 1), (u'18', 1), (u'19', 1), (u'2', 77), (u'20', 1), (u'21', 1), (u'22', 1), (u'23', 1), (u'24', 1), (u'25', 1), (u'26', 1), (u'27', 1), (u'28', 1), (u'29', 1), (u'3', 44), (u'30', 1), (u'31', 1), (u'32', 1), (u'33', 1), (u'34', 1), (u'35', 1), (u'36', 1), (u'37', 1), (u'38', 1), (u'39', 1), (u'4', 31), (u'40', 1), (u'41', 1), (u'42', 1), (u'43', 1), (u'44', 1), (u'45', 1), (u'46', 1), (u'47', 1), (u'48', 1), (u'49', 1), (u'5', 20), (u'50', 1), (u'51', 1), (u'52', 1), (u'53', 1), (u'54', 1), (u'55', 1), (u'56', 1), (u'57', 1), (u'58', 1), (u'59', 1), (u'6', 10), (u'60', 1), (u'61', 1), (u'62', 1), (u'63', 1), (u'64', 1), (u'65', 1), (u'66', 1), (u'67', 1), (u'68', 1), (u'69', 1), (u'7', 7), (u'70', 1), (u'71', 1), (u'72', 1), (u'73', 1), (u'74', 1), (u'75', 1), (u'76', 1), (u'77', 1), (u'78', 1), (u'79', 1), (u'8', 3), (u'80', 1), (u'81', 1), (u'82', 1), (u'83', 1), (u'84', 1), (u'85', 1), (u'86', 1), (u'87', 1), (u'88', 1), (u'89', 1), (u'9', 3), (u'90', 1), (u'91', 1), (u'92', 1), (u'93', 1), (u'94', 1), (u'95', 1), (u'96', 1), (u'97', 1), (u'98', 1), (u'99', 1), (u'a', 14593), (u'aaron', 96), (u'aarons', 1), (u'abaissiez', 1), (u'abandon', 4), (u'abandond', 6), (u'abandoned', 2), (u'abase', 2), (u'abashd', 1), (u'abate', 14), (u'abated', 3), (u'abatement', 3), (u'abatements', 1), (u'abates', 1), (u'abatfowling', 1), (u'abbess', 25), (u'abbey', 20), (u'abbeys', 1), (u'abbominable', 1), (u'abbot', 9), (u'abbots', 1), (u'abbreviated', 1), (u'abed', 9), (u'abel', 1), (u'abels', 1), (u'abergany', 2), (u'abergavenny', 8), (u'abet', 1), (u'abetting', 1), (u'abhominable', 1), (u'abhor', 19), (u'abhorrd', 11), (u'abhorrdst', 1), (u'abhorred', 9), (u'abhorring', 2), (u'abhors', 4), (u'abhorson', 21), (u'abide', 37), (u'abides', 8), (u'abilities', 5), (u'ability', 9), (u'abilitys', 1), (u'abirding', 4), (u'abject', 11), (u'abjectly', 1), (u'abjects', 2), (u'abjurd', 2), (u'abjure', 4), (u'able', 59), (u'ableeding', 2), (u'abler', 1), (u'aboard', 28), (u'abode', 9), (u'aboded', 1), (u'abodements', 1), (u'aboding', 1), (u'abominable', 14), (u'abominably', 1), (u'abominations', 1), (u'abortive', 4), (u'abortives', 1), (u'abound', 7), (u'abounding', 1), (u'aboundst', 1), (u'about', 400), (u'above', 146), (u'abr', 5), (u'abraham', 3), (u'abrahams', 1), (u'abram', 5), (u'abreast', 3), (u'abreeding', 1), (u'abrewing', 1), (u'abridgd', 1), (u'abridge', 2), (u'abridged', 1), (u'abridgment', 4), (u'abroach', 3), (u'abroad', 63), (u'abroadanon', 1), (u'abrogate', 1), (u'abrook', 1), (u'abrupt', 1), (u'abruption', 1), (u'abruptly', 1), (u'absence', 55), (u'absent', 33), (u'absey', 1), (u'absolute', 30), (u'absolutely', 2), (u'absolvd', 3), (u'abstains', 1), (u'abstemious', 1), (u'abstinence', 4), (u'abstract', 6), (u'absurd', 4), (u'absyrtus', 1), (u'abundance', 13), (u'abundant', 4), (u'abundantly', 1), (u'abusd', 29), (u'abuse', 46), (u'abused', 17), (u'abuser', 1), (u'abuses', 11), (u'abusing', 3), (u'abutting', 1), (u'aby', 2), (u'abysm', 3), (u'academe', 1), (u'academes', 2), (u'acapring', 1), (u'accent', 16), (u'accents', 7), (u'accept', 30), (u'acceptable', 1), (u'acceptance', 8), (u'accepted', 3), (u'accepts', 2), (u'access', 22), (u'accessary', 3), (u'accessible', 1), (u'accidence', 1), (u'accident', 23), (u'accidental', 3), (u'accidentally', 3), (u'accidents', 14), (u'accite', 1), (u'accited', 1), (u'accites', 1), (u'acclamations', 1), (u'accommodate', 1), (u'accommodated', 7), (u'accommodation', 1), (u'accommodations', 1), (u'accommodo', 1), (u'accompanied', 9), (u'accompany', 8), (u'accompanying', 1), (u'accomplices', 1), (u'accomplish', 3), (u'accomplishd', 7), (u'accomplished', 3), (u'accomplishing', 1), (u'accomplishment', 1), (u'accompt', 4), (u'accord', 10), (u'accordant', 1), (u'accorded', 1), (u'accordeth', 1), (u'according', 45), (u'accordingly', 10), (u'accords', 3), (u'accost', 6), (u'accosted', 1), (u'account', 45), (u'accountant', 2), (u'accounted', 7), (u'accounts', 2), (u'accountst', 1), (u'accoutred', 2), (u'accoutrement', 2), (u'accoutrements', 2), (u'accrue', 1), (u'accumulate', 2), (u'accumulated', 1), (u'accumulation', 1), (u'accursd', 13), (u'accursed', 18), (u'accurst', 4), (u'accusation', 13), (u'accusations', 6), (u'accusative', 1), (u'accusativo', 2), (u'accusd', 21), (u'accuse', 38), (u'accused', 3), (u'accuser', 2), (u'accusers', 7), (u'accuses', 2), (u'accuseth', 1), (u'accusing', 3), (u'accustomd', 4), (u'accustomed', 2), (u'ace', 3), (u'acerb', 1), (u'ache', 12), (u'acheron', 3), (u'aches', 6), (u'achievd', 8), (u'achieve', 14), (u'achieved', 3), (u'achievement', 3), (u'achievements', 4), (u'achiever', 1), (u'achieves', 1), (u'achilles', 167), (u'aching', 3), (u'achitophel', 1), (u'acknowledgd', 3), (u'acknowledge', 19), (u'acknowledged', 1), (u'acknowledgment', 1), (u'acknown', 1), (u'acold', 5), (u'acoming', 1), (u'aconitum', 1), (u'acordo', 1), (u'acorn', 4), (u'acquaint', 22), (u'acquaintance', 36), (u'acquainted', 39), (u'acquaints', 1), (u'acquird', 2), (u'acquire', 3), (u'acquireafter', 1), (u'acquisition', 1), (u'acquit', 8), (u'acquittance', 3), (u'acquittances', 1), (u'acquitted', 3), (u'acre', 3), (u'acres', 4), (u'across', 6), (u'act', 346), (u'act2sc7', 1), (u'act3sc1', 1), (u'act3sc10', 1), (u'act3sc11', 1), (u'act3sc12', 1), (u'act3sc13', 1), (u'act3sc2', 1), (u'act3sc3', 1), (u'act3sc4', 1), (u'act3sc5', 1), (u'act3sc6', 1), (u'act3sc7', 1), (u'act3sc8', 1), (u'act3sc9', 1), (u'act4sc1', 2), (u'act4sc10', 1), (u'act4sc11', 1), (u'act4sc12', 1), (u'act4sc13', 1), (u'act4sc14', 1), (u'act4sc15', 1), (u'act4sc2', 1), (u'act4sc3', 1), (u'act4sc4', 1), (u'act4sc5', 1), (u'act4sc6', 1), (u'act4sc7', 1), (u'act4sc8', 1), (u'act4sc9', 1), (u'act5sc1', 1), (u'act5sc2', 1), (u'actaeon', 2), (u'actaeons', 1), (u'acted', 7), (u'acting', 8), (u'action', 114), (u'actions', 24), (u'actiontaking', 1), (u'actium', 3), (u'active', 6), (u'actively', 1), (u'activevaliant', 1), (u'activity', 3), (u'actor', 12), (u'actors', 11), (u'acts', 23), (u'actual', 2), (u'acture', 1), (u'acursing', 1), (u'acute', 2), (u'acutely', 1), (u'ad', 14), (u'adage', 2), (u'adallas', 1), (u'adam', 39), (u'adamant', 3), (u'adams', 3), (u'add', 39), (u'added', 17), (u'adder', 11), (u'adders', 8), (u'addeth', 1), (u'addict', 1), (u'addicted', 2), (u'addiction', 2), (u'adding', 9), (u'addition', 27), (u'additions', 5), (u'addle', 3), (u'address', 11), (u'addressd', 7), (u'addressing', 1), (u'addrest', 2), (u'adds', 5), (u'adhere', 2), (u'adheres', 3), (u'adieu', 101), (u'adieus', 2), (u'adjacent', 2), (u'adjoind', 1), (u'adjoining', 2), (u'adjourn', 1), (u'adjournd', 1), (u'adjudgd', 4), (u'adjudged', 1), (u'adjunct', 4), (u'administer', 1), (u'administration', 1), (u'admirable', 15), (u'admiral', 6), (u'admiration', 12), (u'admird', 7), (u'admire', 7), (u'admired', 8), (u'admirer', 1), (u'admiring', 6), (u'admiringly', 2), (u'admit', 24), (u'admits', 7), (u'admittance', 10), (u'admitted', 14)]\n"
     ]
    }
   ],
   "source": [
    "\n",
    "WordsInOrder= (shakeWordsRDD.map(lambda word: (word, 1)) \n",
    "             .reduceByKey(lambda a, b: a + b)\n",
    "             .takeOrdered(500, lambda s: s[0]))\n",
    "\n",
    "print WordsInOrder\n",
    "\n"
   ]
  },
  {
   "cell_type": "code",
   "execution_count": null,
   "metadata": {
    "collapsed": true
   },
   "outputs": [],
   "source": []
  }
 ],
 "metadata": {
  "kernelspec": {
   "display_name": "Python 2",
   "language": "python",
   "name": "python2"
  },
  "language_info": {
   "codemirror_mode": {
    "name": "ipython",
    "version": 2
   },
   "file_extension": ".py",
   "mimetype": "text/x-python",
   "name": "python",
   "nbconvert_exporter": "python",
   "pygments_lexer": "ipython2",
   "version": "2.7.6"
  }
 },
 "nbformat": 4,
 "nbformat_minor": 0
}
